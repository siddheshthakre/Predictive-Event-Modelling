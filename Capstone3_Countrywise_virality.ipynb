{
 "cells": [
  {
   "cell_type": "code",
   "execution_count": 1,
   "metadata": {},
   "outputs": [
    {
     "name": "stdout",
     "output_type": "stream",
     "text": [
      "VideoStarted Dataset\n"
     ]
    },
    {
     "data": {
      "text/html": [
       "<div>\n",
       "<style scoped>\n",
       "    .dataframe tbody tr th:only-of-type {\n",
       "        vertical-align: middle;\n",
       "    }\n",
       "\n",
       "    .dataframe tbody tr th {\n",
       "        vertical-align: top;\n",
       "    }\n",
       "\n",
       "    .dataframe thead th {\n",
       "        text-align: right;\n",
       "    }\n",
       "</style>\n",
       "<table border=\"1\" class=\"dataframe\">\n",
       "  <thead>\n",
       "    <tr style=\"text-align: right;\">\n",
       "      <th></th>\n",
       "      <th>UserId</th>\n",
       "      <th>Date</th>\n",
       "      <th>Minute_Of_Day</th>\n",
       "      <th>Second</th>\n",
       "      <th>State</th>\n",
       "      <th>Genre</th>\n",
       "      <th>Category</th>\n",
       "      <th>ProgramType</th>\n",
       "      <th>Country</th>\n",
       "      <th>Device</th>\n",
       "      <th>OS</th>\n",
       "      <th>VideoId</th>\n",
       "    </tr>\n",
       "  </thead>\n",
       "  <tbody>\n",
       "    <tr>\n",
       "      <th>0</th>\n",
       "      <td>dc93d200565e5bf6e6fc55adb1c5ba06</td>\n",
       "      <td>20170106</td>\n",
       "      <td>0</td>\n",
       "      <td>4</td>\n",
       "      <td>35</td>\n",
       "      <td>Drama</td>\n",
       "      <td>vod</td>\n",
       "      <td>TV Shows</td>\n",
       "      <td>1</td>\n",
       "      <td>2</td>\n",
       "      <td>1</td>\n",
       "      <td>1f2dc23e0d2415353982cfa38cbaf983</td>\n",
       "    </tr>\n",
       "    <tr>\n",
       "      <th>1</th>\n",
       "      <td>12060efd8b68ea562b265d0129a8af1f</td>\n",
       "      <td>20170106</td>\n",
       "      <td>0</td>\n",
       "      <td>16</td>\n",
       "      <td>35</td>\n",
       "      <td>Horror</td>\n",
       "      <td>vod</td>\n",
       "      <td>Movies</td>\n",
       "      <td>1</td>\n",
       "      <td>1</td>\n",
       "      <td>1</td>\n",
       "      <td>6c95441f239cebf9930ac5932cc84a7f</td>\n",
       "    </tr>\n",
       "    <tr>\n",
       "      <th>2</th>\n",
       "      <td>9151ab2a901458f27e36548d4a8dc011</td>\n",
       "      <td>20170106</td>\n",
       "      <td>0</td>\n",
       "      <td>20</td>\n",
       "      <td>0</td>\n",
       "      <td>Drama</td>\n",
       "      <td>vod</td>\n",
       "      <td>TV Shows</td>\n",
       "      <td>255</td>\n",
       "      <td>1</td>\n",
       "      <td>1</td>\n",
       "      <td>1af000794c63fa2722e22af609ff572c</td>\n",
       "    </tr>\n",
       "    <tr>\n",
       "      <th>3</th>\n",
       "      <td>1faf0ce0b98e02e1568702f516f01a78</td>\n",
       "      <td>20170106</td>\n",
       "      <td>0</td>\n",
       "      <td>20</td>\n",
       "      <td>35</td>\n",
       "      <td>Drama</td>\n",
       "      <td>vod</td>\n",
       "      <td>TV Shows</td>\n",
       "      <td>1</td>\n",
       "      <td>1</td>\n",
       "      <td>1</td>\n",
       "      <td>f053c42e98d50e06532ce8d65afb3ab3</td>\n",
       "    </tr>\n",
       "    <tr>\n",
       "      <th>4</th>\n",
       "      <td>435d41ae019cb8db785483793859c9a8</td>\n",
       "      <td>20170106</td>\n",
       "      <td>0</td>\n",
       "      <td>20</td>\n",
       "      <td>35</td>\n",
       "      <td>Anime</td>\n",
       "      <td>vod</td>\n",
       "      <td>TV Shows</td>\n",
       "      <td>1</td>\n",
       "      <td>1</td>\n",
       "      <td>1</td>\n",
       "      <td>2a9d984659afc14f801548dd71ddad0e</td>\n",
       "    </tr>\n",
       "    <tr>\n",
       "      <th>5</th>\n",
       "      <td>434200a07e2d14835580cee9ddcf978c</td>\n",
       "      <td>20170106</td>\n",
       "      <td>0</td>\n",
       "      <td>24</td>\n",
       "      <td>0</td>\n",
       "      <td>Thriller</td>\n",
       "      <td>vod</td>\n",
       "      <td>Movies</td>\n",
       "      <td>255</td>\n",
       "      <td>1</td>\n",
       "      <td>1</td>\n",
       "      <td>8d03b652089819c4bc6a77ef653635ff</td>\n",
       "    </tr>\n",
       "    <tr>\n",
       "      <th>6</th>\n",
       "      <td>1faf0ce0b98e02e1568702f516f01a78</td>\n",
       "      <td>20170106</td>\n",
       "      <td>0</td>\n",
       "      <td>28</td>\n",
       "      <td>35</td>\n",
       "      <td>Drama</td>\n",
       "      <td>vod</td>\n",
       "      <td>TV Shows</td>\n",
       "      <td>1</td>\n",
       "      <td>1</td>\n",
       "      <td>1</td>\n",
       "      <td>6b14489f3e020c5748624098a605aa1e</td>\n",
       "    </tr>\n",
       "    <tr>\n",
       "      <th>7</th>\n",
       "      <td>3ec691b9d2b5d53ef965fe59b1900b30</td>\n",
       "      <td>20170106</td>\n",
       "      <td>0</td>\n",
       "      <td>40</td>\n",
       "      <td>35</td>\n",
       "      <td>Drama</td>\n",
       "      <td>vod</td>\n",
       "      <td>TV Shows</td>\n",
       "      <td>1</td>\n",
       "      <td>2</td>\n",
       "      <td>2</td>\n",
       "      <td>7f28920fe8255272f3f408c4b2564868</td>\n",
       "    </tr>\n",
       "    <tr>\n",
       "      <th>8</th>\n",
       "      <td>9151ab2a901458f27e36548d4a8dc011</td>\n",
       "      <td>20170106</td>\n",
       "      <td>0</td>\n",
       "      <td>44</td>\n",
       "      <td>0</td>\n",
       "      <td>Drama</td>\n",
       "      <td>vod</td>\n",
       "      <td>TV Shows</td>\n",
       "      <td>255</td>\n",
       "      <td>1</td>\n",
       "      <td>1</td>\n",
       "      <td>1af000794c63fa2722e22af609ff572c</td>\n",
       "    </tr>\n",
       "    <tr>\n",
       "      <th>9</th>\n",
       "      <td>cc3c6d5497235af3c445f41296a4e81f</td>\n",
       "      <td>20170106</td>\n",
       "      <td>0</td>\n",
       "      <td>44</td>\n",
       "      <td>0</td>\n",
       "      <td>Drama</td>\n",
       "      <td>vod</td>\n",
       "      <td>Movies</td>\n",
       "      <td>255</td>\n",
       "      <td>1</td>\n",
       "      <td>1</td>\n",
       "      <td>662f197c76deabd3b56a6ed109c873b4</td>\n",
       "    </tr>\n",
       "  </tbody>\n",
       "</table>\n",
       "</div>"
      ],
      "text/plain": [
       "                             UserId      Date  Minute_Of_Day  Second  State  \\\n",
       "0  dc93d200565e5bf6e6fc55adb1c5ba06  20170106              0       4     35   \n",
       "1  12060efd8b68ea562b265d0129a8af1f  20170106              0      16     35   \n",
       "2  9151ab2a901458f27e36548d4a8dc011  20170106              0      20      0   \n",
       "3  1faf0ce0b98e02e1568702f516f01a78  20170106              0      20     35   \n",
       "4  435d41ae019cb8db785483793859c9a8  20170106              0      20     35   \n",
       "5  434200a07e2d14835580cee9ddcf978c  20170106              0      24      0   \n",
       "6  1faf0ce0b98e02e1568702f516f01a78  20170106              0      28     35   \n",
       "7  3ec691b9d2b5d53ef965fe59b1900b30  20170106              0      40     35   \n",
       "8  9151ab2a901458f27e36548d4a8dc011  20170106              0      44      0   \n",
       "9  cc3c6d5497235af3c445f41296a4e81f  20170106              0      44      0   \n",
       "\n",
       "        Genre Category ProgramType  Country  Device  OS  \\\n",
       "0      Drama      vod    TV Shows         1       2   1   \n",
       "1     Horror      vod      Movies         1       1   1   \n",
       "2      Drama      vod    TV Shows       255       1   1   \n",
       "3      Drama      vod    TV Shows         1       1   1   \n",
       "4      Anime      vod    TV Shows         1       1   1   \n",
       "5   Thriller      vod      Movies       255       1   1   \n",
       "6      Drama      vod    TV Shows         1       1   1   \n",
       "7      Drama      vod    TV Shows         1       2   2   \n",
       "8      Drama      vod    TV Shows       255       1   1   \n",
       "9      Drama      vod      Movies       255       1   1   \n",
       "\n",
       "                            VideoId  \n",
       "0  1f2dc23e0d2415353982cfa38cbaf983  \n",
       "1  6c95441f239cebf9930ac5932cc84a7f  \n",
       "2  1af000794c63fa2722e22af609ff572c  \n",
       "3  f053c42e98d50e06532ce8d65afb3ab3  \n",
       "4  2a9d984659afc14f801548dd71ddad0e  \n",
       "5  8d03b652089819c4bc6a77ef653635ff  \n",
       "6  6b14489f3e020c5748624098a605aa1e  \n",
       "7  7f28920fe8255272f3f408c4b2564868  \n",
       "8  1af000794c63fa2722e22af609ff572c  \n",
       "9  662f197c76deabd3b56a6ed109c873b4  "
      ]
     },
     "execution_count": 1,
     "metadata": {},
     "output_type": "execute_result"
    }
   ],
   "source": [
    "import numpy as np \n",
    "import pandas as pd\n",
    "\n",
    "df1 =pd.read_csv(\"D:\\Capstone\\Data\\VideoStarted.csv\")\n",
    "df2 = pd.read_csv(\"D:\\Capstone\\Data\\VideoDetails.csv\")\n",
    "print(\"VideoStarted Dataset\")\n",
    "df2.head(10)"
   ]
  },
  {
   "cell_type": "code",
   "execution_count": 15,
   "metadata": {},
   "outputs": [
    {
     "data": {
      "text/plain": [
       "1      2688671\n",
       "40      928251\n",
       "255      66443\n",
       "Name: Country, dtype: int64"
      ]
     },
     "execution_count": 15,
     "metadata": {},
     "output_type": "execute_result"
    }
   ],
   "source": [
    "df2['Country'].value_counts().head(3)"
   ]
  },
  {
   "cell_type": "code",
   "execution_count": 14,
   "metadata": {},
   "outputs": [
    {
     "data": {
      "text/plain": [
       "160    107201\n",
       "33      82949\n",
       "46      64382\n",
       "14      40594\n",
       "23      23226\n",
       "31      23074\n",
       "43      12494\n",
       "7        9343\n",
       "15       5839\n",
       "12       3195\n",
       "Name: State, dtype: int64"
      ]
     },
     "execution_count": 14,
     "metadata": {},
     "output_type": "execute_result"
    }
   ],
   "source": [
    "df1[df1.Country ==  40]['State'].value_counts().head(10)"
   ]
  },
  {
   "cell_type": "code",
   "execution_count": 13,
   "metadata": {},
   "outputs": [
    {
     "data": {
      "text/plain": [
       "160    268725\n",
       "33     188643\n",
       "46     150988\n",
       "14      98928\n",
       "31      56509\n",
       "23      52364\n",
       "43      29780\n",
       "7       22004\n",
       "15      13718\n",
       "12       7634\n",
       "Name: State, dtype: int64"
      ]
     },
     "execution_count": 13,
     "metadata": {},
     "output_type": "execute_result"
    }
   ],
   "source": [
    "df2[df2.Country ==  40]['State'].value_counts().head(10)"
   ]
  },
  {
   "cell_type": "markdown",
   "metadata": {},
   "source": [
    "# country-state view analysis"
   ]
  },
  {
   "cell_type": "code",
   "execution_count": 16,
   "metadata": {},
   "outputs": [
    {
     "data": {
      "text/plain": [
       "35    1076598\n",
       "57     397211\n",
       "40     318674\n",
       "36     313810\n",
       "38      78824\n",
       "39      68478\n",
       "2       49045\n",
       "37      48972\n",
       "49      43332\n",
       "48      42709\n",
       "6       41629\n",
       "43      38900\n",
       "47      27757\n",
       "45      25575\n",
       "41      24512\n",
       "46      22493\n",
       "12      21351\n",
       "42      10601\n",
       "50       8507\n",
       "34       5543\n",
       "Name: State, dtype: int64"
      ]
     },
     "execution_count": 16,
     "metadata": {},
     "output_type": "execute_result"
    }
   ],
   "source": [
    "df2[df2.Country ==  1]['State'].value_counts().head(20)"
   ]
  },
  {
   "cell_type": "code",
   "execution_count": 7,
   "metadata": {},
   "outputs": [
    {
     "data": {
      "text/plain": [
       "160    268725\n",
       "33     188643\n",
       "46     150988\n",
       "14      98928\n",
       "31      56509\n",
       "23      52364\n",
       "43      29780\n",
       "7       22004\n",
       "15      13718\n",
       "12       7634\n",
       "5        4730\n",
       "38       4611\n",
       "26       3888\n",
       "16       3600\n",
       "32       3389\n",
       "Name: State, dtype: int64"
      ]
     },
     "execution_count": 7,
     "metadata": {},
     "output_type": "execute_result"
    }
   ],
   "source": [
    "df2[df2.Country ==  40]['State'].value_counts().head(15)"
   ]
  },
  {
   "cell_type": "code",
   "execution_count": 8,
   "metadata": {},
   "outputs": [
    {
     "data": {
      "text/plain": [
       "0    66443\n",
       "Name: State, dtype: int64"
      ]
     },
     "execution_count": 8,
     "metadata": {},
     "output_type": "execute_result"
    }
   ],
   "source": [
    "df2[df2.Country ==  255]['State'].value_counts().head(15)"
   ]
  },
  {
   "cell_type": "code",
   "execution_count": 8,
   "metadata": {},
   "outputs": [
    {
     "data": {
      "text/html": [
       "<div>\n",
       "<style scoped>\n",
       "    .dataframe tbody tr th:only-of-type {\n",
       "        vertical-align: middle;\n",
       "    }\n",
       "\n",
       "    .dataframe tbody tr th {\n",
       "        vertical-align: top;\n",
       "    }\n",
       "\n",
       "    .dataframe thead th {\n",
       "        text-align: right;\n",
       "    }\n",
       "</style>\n",
       "<table border=\"1\" class=\"dataframe\">\n",
       "  <thead>\n",
       "    <tr style=\"text-align: right;\">\n",
       "      <th></th>\n",
       "      <th>UserId</th>\n",
       "      <th>Date</th>\n",
       "      <th>Minute_Of_Day</th>\n",
       "      <th>Second</th>\n",
       "      <th>State</th>\n",
       "      <th>Genre</th>\n",
       "      <th>Category</th>\n",
       "      <th>ProgramType</th>\n",
       "      <th>Country</th>\n",
       "      <th>Device</th>\n",
       "      <th>OS</th>\n",
       "      <th>VideoId</th>\n",
       "    </tr>\n",
       "  </thead>\n",
       "  <tbody>\n",
       "    <tr>\n",
       "      <th>0</th>\n",
       "      <td>dc93d200565e5bf6e6fc55adb1c5ba06</td>\n",
       "      <td>2017-01-06</td>\n",
       "      <td>0</td>\n",
       "      <td>4</td>\n",
       "      <td>35</td>\n",
       "      <td>Drama</td>\n",
       "      <td>vod</td>\n",
       "      <td>TV Shows</td>\n",
       "      <td>1</td>\n",
       "      <td>2</td>\n",
       "      <td>1</td>\n",
       "      <td>1f2dc23e0d2415353982cfa38cbaf983</td>\n",
       "    </tr>\n",
       "    <tr>\n",
       "      <th>1</th>\n",
       "      <td>12060efd8b68ea562b265d0129a8af1f</td>\n",
       "      <td>2017-01-06</td>\n",
       "      <td>0</td>\n",
       "      <td>16</td>\n",
       "      <td>35</td>\n",
       "      <td>Horror</td>\n",
       "      <td>vod</td>\n",
       "      <td>Movies</td>\n",
       "      <td>1</td>\n",
       "      <td>1</td>\n",
       "      <td>1</td>\n",
       "      <td>6c95441f239cebf9930ac5932cc84a7f</td>\n",
       "    </tr>\n",
       "    <tr>\n",
       "      <th>2</th>\n",
       "      <td>9151ab2a901458f27e36548d4a8dc011</td>\n",
       "      <td>2017-01-06</td>\n",
       "      <td>0</td>\n",
       "      <td>20</td>\n",
       "      <td>0</td>\n",
       "      <td>Drama</td>\n",
       "      <td>vod</td>\n",
       "      <td>TV Shows</td>\n",
       "      <td>255</td>\n",
       "      <td>1</td>\n",
       "      <td>1</td>\n",
       "      <td>1af000794c63fa2722e22af609ff572c</td>\n",
       "    </tr>\n",
       "    <tr>\n",
       "      <th>3</th>\n",
       "      <td>1faf0ce0b98e02e1568702f516f01a78</td>\n",
       "      <td>2017-01-06</td>\n",
       "      <td>0</td>\n",
       "      <td>20</td>\n",
       "      <td>35</td>\n",
       "      <td>Drama</td>\n",
       "      <td>vod</td>\n",
       "      <td>TV Shows</td>\n",
       "      <td>1</td>\n",
       "      <td>1</td>\n",
       "      <td>1</td>\n",
       "      <td>f053c42e98d50e06532ce8d65afb3ab3</td>\n",
       "    </tr>\n",
       "    <tr>\n",
       "      <th>4</th>\n",
       "      <td>435d41ae019cb8db785483793859c9a8</td>\n",
       "      <td>2017-01-06</td>\n",
       "      <td>0</td>\n",
       "      <td>20</td>\n",
       "      <td>35</td>\n",
       "      <td>Anime</td>\n",
       "      <td>vod</td>\n",
       "      <td>TV Shows</td>\n",
       "      <td>1</td>\n",
       "      <td>1</td>\n",
       "      <td>1</td>\n",
       "      <td>2a9d984659afc14f801548dd71ddad0e</td>\n",
       "    </tr>\n",
       "  </tbody>\n",
       "</table>\n",
       "</div>"
      ],
      "text/plain": [
       "                             UserId       Date  Minute_Of_Day  Second  State  \\\n",
       "0  dc93d200565e5bf6e6fc55adb1c5ba06 2017-01-06              0       4     35   \n",
       "1  12060efd8b68ea562b265d0129a8af1f 2017-01-06              0      16     35   \n",
       "2  9151ab2a901458f27e36548d4a8dc011 2017-01-06              0      20      0   \n",
       "3  1faf0ce0b98e02e1568702f516f01a78 2017-01-06              0      20     35   \n",
       "4  435d41ae019cb8db785483793859c9a8 2017-01-06              0      20     35   \n",
       "\n",
       "      Genre Category ProgramType  Country  Device  OS  \\\n",
       "0    Drama      vod    TV Shows         1       2   1   \n",
       "1   Horror      vod      Movies         1       1   1   \n",
       "2    Drama      vod    TV Shows       255       1   1   \n",
       "3    Drama      vod    TV Shows         1       1   1   \n",
       "4    Anime      vod    TV Shows         1       1   1   \n",
       "\n",
       "                            VideoId  \n",
       "0  1f2dc23e0d2415353982cfa38cbaf983  \n",
       "1  6c95441f239cebf9930ac5932cc84a7f  \n",
       "2  1af000794c63fa2722e22af609ff572c  \n",
       "3  f053c42e98d50e06532ce8d65afb3ab3  \n",
       "4  2a9d984659afc14f801548dd71ddad0e  "
      ]
     },
     "execution_count": 8,
     "metadata": {},
     "output_type": "execute_result"
    }
   ],
   "source": [
    "df2['Date'] = df2['Date'].apply(lambda x:str(x)[0:4]+str('/') + str(x)[4:6] + str('/') + str(x)[6:8])\n",
    "df2['Date'] = pd.to_datetime(df2['Date'])\n",
    "df2.head(5)"
   ]
  },
  {
   "cell_type": "code",
   "execution_count": 12,
   "metadata": {},
   "outputs": [
    {
     "data": {
      "text/plain": [
       "2017-05-30    54398\n",
       "2017-05-31    54374\n",
       "2017-06-04    54113\n",
       "2017-05-27    52004\n",
       "2017-05-25    51776\n",
       "2017-06-03    51671\n",
       "2017-06-01    51400\n",
       "2017-05-29    51350\n",
       "2017-06-02    51091\n",
       "2017-05-23    50470\n",
       "Name: Date, dtype: int64"
      ]
     },
     "execution_count": 12,
     "metadata": {},
     "output_type": "execute_result"
    }
   ],
   "source": [
    "df2['Date'].value_counts().head(10)"
   ]
  },
  {
   "cell_type": "code",
   "execution_count": 27,
   "metadata": {},
   "outputs": [
    {
     "data": {
      "text/plain": [
       "0      Drama \n",
       "1     Horror \n",
       "2      Drama \n",
       "3      Drama \n",
       "4      Anime \n",
       "Name: Genre, dtype: object"
      ]
     },
     "execution_count": 27,
     "metadata": {},
     "output_type": "execute_result"
    }
   ],
   "source": [
    "df2.Genre.head(5)"
   ]
  },
  {
   "cell_type": "code",
   "execution_count": 25,
   "metadata": {},
   "outputs": [
    {
     "data": {
      "text/html": [
       "<div>\n",
       "<style scoped>\n",
       "    .dataframe tbody tr th:only-of-type {\n",
       "        vertical-align: middle;\n",
       "    }\n",
       "\n",
       "    .dataframe tbody tr th {\n",
       "        vertical-align: top;\n",
       "    }\n",
       "\n",
       "    .dataframe thead th {\n",
       "        text-align: right;\n",
       "    }\n",
       "</style>\n",
       "<table border=\"1\" class=\"dataframe\">\n",
       "  <thead>\n",
       "    <tr style=\"text-align: right;\">\n",
       "      <th></th>\n",
       "      <th>UserId</th>\n",
       "      <th>Date</th>\n",
       "      <th>Minute_Of_Day</th>\n",
       "      <th>Second</th>\n",
       "      <th>State</th>\n",
       "      <th>Genre</th>\n",
       "      <th>Category</th>\n",
       "      <th>ProgramType</th>\n",
       "      <th>Country</th>\n",
       "      <th>Device</th>\n",
       "      <th>OS</th>\n",
       "      <th>VideoId</th>\n",
       "    </tr>\n",
       "  </thead>\n",
       "  <tbody>\n",
       "  </tbody>\n",
       "</table>\n",
       "</div>"
      ],
      "text/plain": [
       "Empty DataFrame\n",
       "Columns: [UserId, Date, Minute_Of_Day, Second, State, Genre, Category, ProgramType, Country, Device, OS, VideoId]\n",
       "Index: []"
      ]
     },
     "execution_count": 25,
     "metadata": {},
     "output_type": "execute_result"
    }
   ],
   "source": [
    "df2[df2.Genre == 'horror'].head(10)"
   ]
  },
  {
   "cell_type": "code",
   "execution_count": 18,
   "metadata": {},
   "outputs": [
    {
     "ename": "SyntaxError",
     "evalue": "invalid syntax (<ipython-input-18-c870fd29cace>, line 1)",
     "output_type": "error",
     "traceback": [
      "\u001b[1;36m  File \u001b[1;32m\"<ipython-input-18-c870fd29cace>\"\u001b[1;36m, line \u001b[1;32m1\u001b[0m\n\u001b[1;33m    ipython locate\u001b[0m\n\u001b[1;37m                 ^\u001b[0m\n\u001b[1;31mSyntaxError\u001b[0m\u001b[1;31m:\u001b[0m invalid syntax\n"
     ]
    }
   ],
   "source": []
  }
 ],
 "metadata": {
  "kernelspec": {
   "display_name": "Python 3",
   "language": "python",
   "name": "python3"
  },
  "language_info": {
   "codemirror_mode": {
    "name": "ipython",
    "version": 3
   },
   "file_extension": ".py",
   "mimetype": "text/x-python",
   "name": "python",
   "nbconvert_exporter": "python",
   "pygments_lexer": "ipython3",
   "version": "3.7.1"
  }
 },
 "nbformat": 4,
 "nbformat_minor": 2
}
