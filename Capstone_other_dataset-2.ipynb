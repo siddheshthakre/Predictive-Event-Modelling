{
 "cells": [
  {
   "cell_type": "markdown",
   "metadata": {},
   "source": [
    "# AppLaunched Dataset"
   ]
  },
  {
   "cell_type": "code",
   "execution_count": 2,
   "metadata": {},
   "outputs": [
    {
     "data": {
      "text/html": [
       "<div>\n",
       "<style scoped>\n",
       "    .dataframe tbody tr th:only-of-type {\n",
       "        vertical-align: middle;\n",
       "    }\n",
       "\n",
       "    .dataframe tbody tr th {\n",
       "        vertical-align: top;\n",
       "    }\n",
       "\n",
       "    .dataframe thead th {\n",
       "        text-align: right;\n",
       "    }\n",
       "</style>\n",
       "<table border=\"1\" class=\"dataframe\">\n",
       "  <thead>\n",
       "    <tr style=\"text-align: right;\">\n",
       "      <th></th>\n",
       "      <th>UserId</th>\n",
       "      <th>Date</th>\n",
       "      <th>Minute_Of_Day</th>\n",
       "      <th>Second</th>\n",
       "      <th>State</th>\n",
       "      <th>Country</th>\n",
       "      <th>Device</th>\n",
       "      <th>OS</th>\n",
       "    </tr>\n",
       "  </thead>\n",
       "  <tbody>\n",
       "    <tr>\n",
       "      <th>0</th>\n",
       "      <td>a27134c322d4f56dabc106a6847cb96b</td>\n",
       "      <td>20170106</td>\n",
       "      <td>0</td>\n",
       "      <td>4</td>\n",
       "      <td>50</td>\n",
       "      <td>1</td>\n",
       "      <td>1</td>\n",
       "      <td>2</td>\n",
       "    </tr>\n",
       "    <tr>\n",
       "      <th>1</th>\n",
       "      <td>aab39ad0874c59cc388525d511667f9d</td>\n",
       "      <td>20170106</td>\n",
       "      <td>0</td>\n",
       "      <td>8</td>\n",
       "      <td>40</td>\n",
       "      <td>1</td>\n",
       "      <td>1</td>\n",
       "      <td>2</td>\n",
       "    </tr>\n",
       "    <tr>\n",
       "      <th>2</th>\n",
       "      <td>f717dc3f757dc18cc0c3f27ed3e94ef8</td>\n",
       "      <td>20170106</td>\n",
       "      <td>0</td>\n",
       "      <td>12</td>\n",
       "      <td>35</td>\n",
       "      <td>1</td>\n",
       "      <td>1</td>\n",
       "      <td>2</td>\n",
       "    </tr>\n",
       "    <tr>\n",
       "      <th>3</th>\n",
       "      <td>04c1e14fd54a06c0d4fe98cf0cb8b04c</td>\n",
       "      <td>20170106</td>\n",
       "      <td>0</td>\n",
       "      <td>20</td>\n",
       "      <td>40</td>\n",
       "      <td>1</td>\n",
       "      <td>2</td>\n",
       "      <td>2</td>\n",
       "    </tr>\n",
       "    <tr>\n",
       "      <th>4</th>\n",
       "      <td>71f05822bb699a04b694dd30265fdf73</td>\n",
       "      <td>20170106</td>\n",
       "      <td>0</td>\n",
       "      <td>20</td>\n",
       "      <td>35</td>\n",
       "      <td>1</td>\n",
       "      <td>1</td>\n",
       "      <td>2</td>\n",
       "    </tr>\n",
       "  </tbody>\n",
       "</table>\n",
       "</div>"
      ],
      "text/plain": [
       "                             UserId      Date  Minute_Of_Day  Second  State  \\\n",
       "0  a27134c322d4f56dabc106a6847cb96b  20170106              0       4     50   \n",
       "1  aab39ad0874c59cc388525d511667f9d  20170106              0       8     40   \n",
       "2  f717dc3f757dc18cc0c3f27ed3e94ef8  20170106              0      12     35   \n",
       "3  04c1e14fd54a06c0d4fe98cf0cb8b04c  20170106              0      20     40   \n",
       "4  71f05822bb699a04b694dd30265fdf73  20170106              0      20     35   \n",
       "\n",
       "   Country  Device  OS  \n",
       "0        1       1   2  \n",
       "1        1       1   2  \n",
       "2        1       1   2  \n",
       "3        1       2   2  \n",
       "4        1       1   2  "
      ]
     },
     "execution_count": 2,
     "metadata": {},
     "output_type": "execute_result"
    }
   ],
   "source": [
    "import numpy as np\n",
    "import pandas as pd\n",
    "import matplotlib.pyplot as plt\n",
    "data1 = pd.read_csv(r\"../data/AppLaunched.csv\")\n",
    "data1.head(5)"
   ]
  },
  {
   "cell_type": "markdown",
   "metadata": {},
   "source": [
    "# Shape of dataset"
   ]
  },
  {
   "cell_type": "code",
   "execution_count": 2,
   "metadata": {},
   "outputs": [
    {
     "data": {
      "text/plain": [
       "(2716093, 8)"
      ]
     },
     "execution_count": 2,
     "metadata": {},
     "output_type": "execute_result"
    }
   ],
   "source": [
    "data1.shape"
   ]
  },
  {
   "cell_type": "markdown",
   "metadata": {},
   "source": [
    "# value count countrywise"
   ]
  },
  {
   "cell_type": "code",
   "execution_count": 3,
   "metadata": {},
   "outputs": [
    {
     "data": {
      "text/plain": [
       "1      1970961\n",
       "40      626322\n",
       "255      95174\n",
       "14        7823\n",
       "46        3361\n",
       "Name: Country, dtype: int64"
      ]
     },
     "execution_count": 3,
     "metadata": {},
     "output_type": "execute_result"
    }
   ],
   "source": [
    "import seaborn as sns\n",
    "%matplotlib inline\n",
    "data1['Country'].value_counts().head(5)"
   ]
  },
  {
   "cell_type": "markdown",
   "metadata": {},
   "source": [
    "# Plot for country count"
   ]
  },
  {
   "cell_type": "code",
   "execution_count": 4,
   "metadata": {},
   "outputs": [
    {
     "data": {
      "text/plain": [
       "<matplotlib.axes._subplots.AxesSubplot at 0x1908be01860>"
      ]
     },
     "execution_count": 4,
     "metadata": {},
     "output_type": "execute_result"
    },
    {
     "data": {
      "image/png": "[encoded data removed]",
      "text/plain": [
       "<Figure size 432x288 with 1 Axes>"
      ]
     },
     "metadata": {
      "needs_background": "light"
     },
     "output_type": "display_data"
    }
   ],
   "source": [
    "data1 = data1[data1.Country.isin([1,40,255])]\n",
    "sns.countplot(data1['Country'])"
   ]
  },
  {
   "cell_type": "code",
   "execution_count": 5,
   "metadata": {},
   "outputs": [
    {
     "data": {
      "text/html": [
       "<div>\n",
       "<style scoped>\n",
       "    .dataframe tbody tr th:only-of-type {\n",
       "        vertical-align: middle;\n",
       "    }\n",
       "\n",
       "    .dataframe tbody tr th {\n",
       "        vertical-align: top;\n",
       "    }\n",
       "\n",
       "    .dataframe thead th {\n",
       "        text-align: right;\n",
       "    }\n",
       "</style>\n",
       "<table border=\"1\" class=\"dataframe\">\n",
       "  <thead>\n",
       "    <tr style=\"text-align: right;\">\n",
       "      <th></th>\n",
       "      <th>UserId</th>\n",
       "      <th>Date</th>\n",
       "      <th>Minute_Of_Day</th>\n",
       "      <th>Second</th>\n",
       "      <th>State</th>\n",
       "      <th>Country</th>\n",
       "      <th>Device</th>\n",
       "      <th>OS</th>\n",
       "    </tr>\n",
       "  </thead>\n",
       "  <tbody>\n",
       "    <tr>\n",
       "      <th>0</th>\n",
       "      <td>a27134c322d4f56dabc106a6847cb96b</td>\n",
       "      <td>2017-01-06</td>\n",
       "      <td>0</td>\n",
       "      <td>4</td>\n",
       "      <td>50</td>\n",
       "      <td>1</td>\n",
       "      <td>1</td>\n",
       "      <td>2</td>\n",
       "    </tr>\n",
       "    <tr>\n",
       "      <th>1</th>\n",
       "      <td>aab39ad0874c59cc388525d511667f9d</td>\n",
       "      <td>2017-01-06</td>\n",
       "      <td>0</td>\n",
       "      <td>8</td>\n",
       "      <td>40</td>\n",
       "      <td>1</td>\n",
       "      <td>1</td>\n",
       "      <td>2</td>\n",
       "    </tr>\n",
       "    <tr>\n",
       "      <th>2</th>\n",
       "      <td>f717dc3f757dc18cc0c3f27ed3e94ef8</td>\n",
       "      <td>2017-01-06</td>\n",
       "      <td>0</td>\n",
       "      <td>12</td>\n",
       "      <td>35</td>\n",
       "      <td>1</td>\n",
       "      <td>1</td>\n",
       "      <td>2</td>\n",
       "    </tr>\n",
       "    <tr>\n",
       "      <th>3</th>\n",
       "      <td>04c1e14fd54a06c0d4fe98cf0cb8b04c</td>\n",
       "      <td>2017-01-06</td>\n",
       "      <td>0</td>\n",
       "      <td>20</td>\n",
       "      <td>40</td>\n",
       "      <td>1</td>\n",
       "      <td>2</td>\n",
       "      <td>2</td>\n",
       "    </tr>\n",
       "    <tr>\n",
       "      <th>4</th>\n",
       "      <td>71f05822bb699a04b694dd30265fdf73</td>\n",
       "      <td>2017-01-06</td>\n",
       "      <td>0</td>\n",
       "      <td>20</td>\n",
       "      <td>35</td>\n",
       "      <td>1</td>\n",
       "      <td>1</td>\n",
       "      <td>2</td>\n",
       "    </tr>\n",
       "  </tbody>\n",
       "</table>\n",
       "</div>"
      ],
      "text/plain": [
       "                             UserId       Date  Minute_Of_Day  Second  State  \\\n",
       "0  a27134c322d4f56dabc106a6847cb96b 2017-01-06              0       4     50   \n",
       "1  aab39ad0874c59cc388525d511667f9d 2017-01-06              0       8     40   \n",
       "2  f717dc3f757dc18cc0c3f27ed3e94ef8 2017-01-06              0      12     35   \n",
       "3  04c1e14fd54a06c0d4fe98cf0cb8b04c 2017-01-06              0      20     40   \n",
       "4  71f05822bb699a04b694dd30265fdf73 2017-01-06              0      20     35   \n",
       "\n",
       "   Country  Device  OS  \n",
       "0        1       1   2  \n",
       "1        1       1   2  \n",
       "2        1       1   2  \n",
       "3        1       2   2  \n",
       "4        1       1   2  "
      ]
     },
     "execution_count": 5,
     "metadata": {},
     "output_type": "execute_result"
    }
   ],
   "source": [
    "data1['Date'] = data1['Date'].apply(lambda x:str(x)[0:4]+str('/') + str(x)[4:6] + str('/') + str(x)[6:8])\n",
    "data1['Date'] = pd.to_datetime(data1['Date'])\n",
    "data1.head(5)"
   ]
  },
  {
   "cell_type": "code",
   "execution_count": 6,
   "metadata": {},
   "outputs": [
    {
     "data": {
      "text/html": [
       "<div>\n",
       "<style scoped>\n",
       "    .dataframe tbody tr th:only-of-type {\n",
       "        vertical-align: middle;\n",
       "    }\n",
       "\n",
       "    .dataframe tbody tr th {\n",
       "        vertical-align: top;\n",
       "    }\n",
       "\n",
       "    .dataframe thead th {\n",
       "        text-align: right;\n",
       "    }\n",
       "</style>\n",
       "<table border=\"1\" class=\"dataframe\">\n",
       "  <thead>\n",
       "    <tr style=\"text-align: right;\">\n",
       "      <th></th>\n",
       "      <th>UserId</th>\n",
       "      <th>Date</th>\n",
       "      <th>State</th>\n",
       "      <th>Country</th>\n",
       "      <th>Device</th>\n",
       "      <th>OS</th>\n",
       "      <th>time</th>\n",
       "    </tr>\n",
       "  </thead>\n",
       "  <tbody>\n",
       "    <tr>\n",
       "      <th>0</th>\n",
       "      <td>a27134c322d4f56dabc106a6847cb96b</td>\n",
       "      <td>2017-01-06</td>\n",
       "      <td>50</td>\n",
       "      <td>1</td>\n",
       "      <td>1</td>\n",
       "      <td>2</td>\n",
       "      <td>00:00:04</td>\n",
       "    </tr>\n",
       "    <tr>\n",
       "      <th>1</th>\n",
       "      <td>aab39ad0874c59cc388525d511667f9d</td>\n",
       "      <td>2017-01-06</td>\n",
       "      <td>40</td>\n",
       "      <td>1</td>\n",
       "      <td>1</td>\n",
       "      <td>2</td>\n",
       "      <td>00:00:08</td>\n",
       "    </tr>\n",
       "    <tr>\n",
       "      <th>2</th>\n",
       "      <td>f717dc3f757dc18cc0c3f27ed3e94ef8</td>\n",
       "      <td>2017-01-06</td>\n",
       "      <td>35</td>\n",
       "      <td>1</td>\n",
       "      <td>1</td>\n",
       "      <td>2</td>\n",
       "      <td>00:00:12</td>\n",
       "    </tr>\n",
       "    <tr>\n",
       "      <th>3</th>\n",
       "      <td>04c1e14fd54a06c0d4fe98cf0cb8b04c</td>\n",
       "      <td>2017-01-06</td>\n",
       "      <td>40</td>\n",
       "      <td>1</td>\n",
       "      <td>2</td>\n",
       "      <td>2</td>\n",
       "      <td>00:00:20</td>\n",
       "    </tr>\n",
       "    <tr>\n",
       "      <th>4</th>\n",
       "      <td>71f05822bb699a04b694dd30265fdf73</td>\n",
       "      <td>2017-01-06</td>\n",
       "      <td>35</td>\n",
       "      <td>1</td>\n",
       "      <td>1</td>\n",
       "      <td>2</td>\n",
       "      <td>00:00:20</td>\n",
       "    </tr>\n",
       "  </tbody>\n",
       "</table>\n",
       "</div>"
      ],
      "text/plain": [
       "                             UserId       Date  State  Country  Device  OS  \\\n",
       "0  a27134c322d4f56dabc106a6847cb96b 2017-01-06     50        1       1   2   \n",
       "1  aab39ad0874c59cc388525d511667f9d 2017-01-06     40        1       1   2   \n",
       "2  f717dc3f757dc18cc0c3f27ed3e94ef8 2017-01-06     35        1       1   2   \n",
       "3  04c1e14fd54a06c0d4fe98cf0cb8b04c 2017-01-06     40        1       2   2   \n",
       "4  71f05822bb699a04b694dd30265fdf73 2017-01-06     35        1       1   2   \n",
       "\n",
       "       time  \n",
       "0  00:00:04  \n",
       "1  00:00:08  \n",
       "2  00:00:12  \n",
       "3  00:00:20  \n",
       "4  00:00:20  "
      ]
     },
     "execution_count": 6,
     "metadata": {},
     "output_type": "execute_result"
    }
   ],
   "source": [
    "data1['Start_Time_hr'] = data1['Minute_Of_Day']//60\n",
    "data1['Start_Time_min'] = data1['Minute_Of_Day']%60\n",
    "data1['Start_Time_sec'] = data1['Second']\n",
    "data1 = data1.drop(columns = 'Minute_Of_Day')\n",
    "data1 = data1.drop(columns = 'Second')\n",
    "data1['Start_Time_hr'] = data1['Start_Time_hr'].apply(lambda x: str(x).zfill(2))\n",
    "data1['Start_Time_min'] = data1['Start_Time_min'].apply(lambda x: str(x).zfill(2) )\n",
    "data1['Start_Time_sec'] =data1['Start_Time_sec'].apply(lambda x: str(x).zfill(2))\n",
    "data1['time'] = data1['Start_Time_hr'] + str(':') + data1['Start_Time_min'] + str(':') + data1['Start_Time_sec']\n",
    "data1 = data1.drop(columns = ['Start_Time_hr','Start_Time_min','Start_Time_sec'])\n",
    "data1.head(5)"
   ]
  },
  {
   "cell_type": "markdown",
   "metadata": {},
   "source": [
    "# Combining columns"
   ]
  },
  {
   "cell_type": "code",
   "execution_count": null,
   "metadata": {},
   "outputs": [],
   "source": []
  },
  {
   "cell_type": "code",
   "execution_count": 8,
   "metadata": {},
   "outputs": [
    {
     "data": {
      "text/html": [
       "<div>\n",
       "<style scoped>\n",
       "    .dataframe tbody tr th:only-of-type {\n",
       "        vertical-align: middle;\n",
       "    }\n",
       "\n",
       "    .dataframe tbody tr th {\n",
       "        vertical-align: top;\n",
       "    }\n",
       "\n",
       "    .dataframe thead th {\n",
       "        text-align: right;\n",
       "    }\n",
       "</style>\n",
       "<table border=\"1\" class=\"dataframe\">\n",
       "  <thead>\n",
       "    <tr style=\"text-align: right;\">\n",
       "      <th></th>\n",
       "      <th>UserId</th>\n",
       "      <th>Date</th>\n",
       "      <th>State</th>\n",
       "      <th>Country</th>\n",
       "      <th>Device</th>\n",
       "      <th>OS</th>\n",
       "      <th>time</th>\n",
       "      <th>Country-State</th>\n",
       "      <th>Device-OS</th>\n",
       "    </tr>\n",
       "  </thead>\n",
       "  <tbody>\n",
       "    <tr>\n",
       "      <th>0</th>\n",
       "      <td>a27134c322d4f56dabc106a6847cb96b</td>\n",
       "      <td>2017-01-06</td>\n",
       "      <td>50</td>\n",
       "      <td>1</td>\n",
       "      <td>1</td>\n",
       "      <td>2</td>\n",
       "      <td>00:00:04</td>\n",
       "      <td>1-50</td>\n",
       "      <td>1-2</td>\n",
       "    </tr>\n",
       "    <tr>\n",
       "      <th>1</th>\n",
       "      <td>aab39ad0874c59cc388525d511667f9d</td>\n",
       "      <td>2017-01-06</td>\n",
       "      <td>40</td>\n",
       "      <td>1</td>\n",
       "      <td>1</td>\n",
       "      <td>2</td>\n",
       "      <td>00:00:08</td>\n",
       "      <td>1-40</td>\n",
       "      <td>1-2</td>\n",
       "    </tr>\n",
       "    <tr>\n",
       "      <th>2</th>\n",
       "      <td>f717dc3f757dc18cc0c3f27ed3e94ef8</td>\n",
       "      <td>2017-01-06</td>\n",
       "      <td>35</td>\n",
       "      <td>1</td>\n",
       "      <td>1</td>\n",
       "      <td>2</td>\n",
       "      <td>00:00:12</td>\n",
       "      <td>1-35</td>\n",
       "      <td>1-2</td>\n",
       "    </tr>\n",
       "    <tr>\n",
       "      <th>3</th>\n",
       "      <td>04c1e14fd54a06c0d4fe98cf0cb8b04c</td>\n",
       "      <td>2017-01-06</td>\n",
       "      <td>40</td>\n",
       "      <td>1</td>\n",
       "      <td>2</td>\n",
       "      <td>2</td>\n",
       "      <td>00:00:20</td>\n",
       "      <td>1-40</td>\n",
       "      <td>2-2</td>\n",
       "    </tr>\n",
       "    <tr>\n",
       "      <th>4</th>\n",
       "      <td>71f05822bb699a04b694dd30265fdf73</td>\n",
       "      <td>2017-01-06</td>\n",
       "      <td>35</td>\n",
       "      <td>1</td>\n",
       "      <td>1</td>\n",
       "      <td>2</td>\n",
       "      <td>00:00:20</td>\n",
       "      <td>1-35</td>\n",
       "      <td>1-2</td>\n",
       "    </tr>\n",
       "  </tbody>\n",
       "</table>\n",
       "</div>"
      ],
      "text/plain": [
       "                             UserId       Date  State  Country  Device  OS  \\\n",
       "0  a27134c322d4f56dabc106a6847cb96b 2017-01-06     50        1       1   2   \n",
       "1  aab39ad0874c59cc388525d511667f9d 2017-01-06     40        1       1   2   \n",
       "2  f717dc3f757dc18cc0c3f27ed3e94ef8 2017-01-06     35        1       1   2   \n",
       "3  04c1e14fd54a06c0d4fe98cf0cb8b04c 2017-01-06     40        1       2   2   \n",
       "4  71f05822bb699a04b694dd30265fdf73 2017-01-06     35        1       1   2   \n",
       "\n",
       "       time Country-State Device-OS  \n",
       "0  00:00:04          1-50       1-2  \n",
       "1  00:00:08          1-40       1-2  \n",
       "2  00:00:12          1-35       1-2  \n",
       "3  00:00:20          1-40       2-2  \n",
       "4  00:00:20          1-35       1-2  "
      ]
     },
     "execution_count": 8,
     "metadata": {},
     "output_type": "execute_result"
    }
   ],
   "source": [
    "data1['Country-State']= data1['Country'].apply(lambda x:str(x)) + str('-') + data1['State'].apply(lambda x : str(x))\n",
    "data1['Device-OS']= data1['Device'].apply(lambda x:str(x)) + str('-') + data1['OS'].apply(lambda x : str(x))\n",
    "data1.head(5)"
   ]
  },
  {
   "cell_type": "markdown",
   "metadata": {},
   "source": [
    "# Trend analysis of App Launched"
   ]
  },
  {
   "cell_type": "code",
   "execution_count": 11,
   "metadata": {},
   "outputs": [
    {
     "data": {
      "text/plain": [
       "2    314695\n",
       "3    318982\n",
       "6    319132\n",
       "1    408194\n",
       "4    535722\n",
       "5    795732\n",
       "Name: Date, dtype: int64"
      ]
     },
     "execution_count": 11,
     "metadata": {},
     "output_type": "execute_result"
    }
   ],
   "source": [
    "data1['Date'].dt.month.value_counts(ascending = True)\n"
   ]
  },
  {
   "cell_type": "code",
   "execution_count": 12,
   "metadata": {},
   "outputs": [
    {
     "data": {
      "text/plain": [
       "Text(0, 0.5, 'Count')"
      ]
     },
     "execution_count": 12,
     "metadata": {},
     "output_type": "execute_result"
    },
    {
     "data": {
      "image/png": "[encoded data removed]",
      "text/plain": [
       "<Figure size 432x288 with 1 Axes>"
      ]
     },
     "metadata": {
      "needs_background": "light"
     },
     "output_type": "display_data"
    }
   ],
   "source": [
    "plt.plot(['Jan','Feb','Mar','Apr','May','Jun'], [408194,314695,318982,535722,795732,319132], color='green', linestyle='dashed', linewidth = 3, \n",
    "         marker='o', markerfacecolor='blue', markersize=12) \n",
    "plt.title('Trend for AppLaunched')\n",
    "plt.xlabel('MONTH')\n",
    "plt.ylabel('Count')"
   ]
  },
  {
   "cell_type": "markdown",
   "metadata": {},
   "source": [
    "# For Country 1"
   ]
  },
  {
   "cell_type": "code",
   "execution_count": 13,
   "metadata": {},
   "outputs": [
    {
     "data": {
      "text/plain": [
       "5    593840\n",
       "4    387127\n",
       "1    289863\n",
       "6    253048\n",
       "3    234052\n",
       "2    213031\n",
       "Name: Date, dtype: int64"
      ]
     },
     "execution_count": 13,
     "metadata": {},
     "output_type": "execute_result"
    }
   ],
   "source": [
    "data1[data1.Country == 1]['Date'].dt.month.value_counts()"
   ]
  },
  {
   "cell_type": "code",
   "execution_count": 14,
   "metadata": {},
   "outputs": [
    {
     "data": {
      "text/plain": [
       "Text(0, 0.5, 'Count')"
      ]
     },
     "execution_count": 14,
     "metadata": {},
     "output_type": "execute_result"
    },
    {
     "data": {
      "image/png": "[encoded data removed]",
      "text/plain": [
       "<Figure size 432x288 with 1 Axes>"
      ]
     },
     "metadata": {
      "needs_background": "light"
     },
     "output_type": "display_data"
    }
   ],
   "source": [
    "plt.plot(['Jan','Feb','Mar','Apr','May','Jun'], [289863,213031,234052,387127,593840,253048], color='green', linestyle='dashed', linewidth = 3, \n",
    "         marker='o', markerfacecolor='blue', markersize=12) \n",
    "plt.title('Trend for AppLaunched for country 1')\n",
    "plt.xlabel('MONTH')\n",
    "plt.ylabel('Count')"
   ]
  },
  {
   "cell_type": "markdown",
   "metadata": {},
   "source": [
    "# Registration Dataset"
   ]
  },
  {
   "cell_type": "code",
   "execution_count": 15,
   "metadata": {},
   "outputs": [
    {
     "data": {
      "text/html": [
       "<div>\n",
       "<style scoped>\n",
       "    .dataframe tbody tr th:only-of-type {\n",
       "        vertical-align: middle;\n",
       "    }\n",
       "\n",
       "    .dataframe tbody tr th {\n",
       "        vertical-align: top;\n",
       "    }\n",
       "\n",
       "    .dataframe thead th {\n",
       "        text-align: right;\n",
       "    }\n",
       "</style>\n",
       "<table border=\"1\" class=\"dataframe\">\n",
       "  <thead>\n",
       "    <tr style=\"text-align: right;\">\n",
       "      <th></th>\n",
       "      <th>UserId</th>\n",
       "      <th>Date</th>\n",
       "      <th>Minute_Of_Day</th>\n",
       "      <th>Second</th>\n",
       "      <th>State</th>\n",
       "      <th>Country</th>\n",
       "      <th>Device</th>\n",
       "      <th>OS</th>\n",
       "      <th>Status</th>\n",
       "    </tr>\n",
       "  </thead>\n",
       "  <tbody>\n",
       "    <tr>\n",
       "      <th>0</th>\n",
       "      <td>d168e2b924124feaad13eae44a68fce9</td>\n",
       "      <td>20170106</td>\n",
       "      <td>0</td>\n",
       "      <td>8</td>\n",
       "      <td>35</td>\n",
       "      <td>1</td>\n",
       "      <td>1</td>\n",
       "      <td>2</td>\n",
       "      <td>Complete</td>\n",
       "    </tr>\n",
       "    <tr>\n",
       "      <th>1</th>\n",
       "      <td>deed7490952a6746610ee2ee9fd219b7</td>\n",
       "      <td>20170106</td>\n",
       "      <td>0</td>\n",
       "      <td>8</td>\n",
       "      <td>7</td>\n",
       "      <td>40</td>\n",
       "      <td>1</td>\n",
       "      <td>1</td>\n",
       "      <td>Completed</td>\n",
       "    </tr>\n",
       "    <tr>\n",
       "      <th>2</th>\n",
       "      <td>13d9f55e297d7d9c219fbe9085e1006c</td>\n",
       "      <td>20170106</td>\n",
       "      <td>0</td>\n",
       "      <td>28</td>\n",
       "      <td>35</td>\n",
       "      <td>1</td>\n",
       "      <td>1</td>\n",
       "      <td>2</td>\n",
       "      <td>Complete</td>\n",
       "    </tr>\n",
       "    <tr>\n",
       "      <th>3</th>\n",
       "      <td>fccc2c0abf5afabf242a70df7b4c9e69</td>\n",
       "      <td>20170106</td>\n",
       "      <td>0</td>\n",
       "      <td>52</td>\n",
       "      <td>39</td>\n",
       "      <td>1</td>\n",
       "      <td>1</td>\n",
       "      <td>1</td>\n",
       "      <td>Completed</td>\n",
       "    </tr>\n",
       "    <tr>\n",
       "      <th>4</th>\n",
       "      <td>9ff982b29d78cefc8eb5a3ffb7fd2a5d</td>\n",
       "      <td>20170106</td>\n",
       "      <td>0</td>\n",
       "      <td>52</td>\n",
       "      <td>38</td>\n",
       "      <td>1</td>\n",
       "      <td>1</td>\n",
       "      <td>1</td>\n",
       "      <td>Not Completed</td>\n",
       "    </tr>\n",
       "  </tbody>\n",
       "</table>\n",
       "</div>"
      ],
      "text/plain": [
       "                             UserId      Date  Minute_Of_Day  Second  State  \\\n",
       "0  d168e2b924124feaad13eae44a68fce9  20170106              0       8     35   \n",
       "1  deed7490952a6746610ee2ee9fd219b7  20170106              0       8      7   \n",
       "2  13d9f55e297d7d9c219fbe9085e1006c  20170106              0      28     35   \n",
       "3  fccc2c0abf5afabf242a70df7b4c9e69  20170106              0      52     39   \n",
       "4  9ff982b29d78cefc8eb5a3ffb7fd2a5d  20170106              0      52     38   \n",
       "\n",
       "   Country  Device  OS         Status  \n",
       "0        1       1   2       Complete  \n",
       "1       40       1   1      Completed  \n",
       "2        1       1   2       Complete  \n",
       "3        1       1   1      Completed  \n",
       "4        1       1   1  Not Completed  "
      ]
     },
     "execution_count": 15,
     "metadata": {},
     "output_type": "execute_result"
    }
   ],
   "source": [
    "data2 = pd.read_csv(r\"D:\\Capstone\\Data\\Registration.csv\")\n",
    "data2.head(5)"
   ]
  },
  {
   "cell_type": "code",
   "execution_count": 16,
   "metadata": {},
   "outputs": [
    {
     "data": {
      "text/plain": [
       "(329579, 9)"
      ]
     },
     "execution_count": 16,
     "metadata": {},
     "output_type": "execute_result"
    }
   ],
   "source": [
    "data2.shape"
   ]
  },
  {
   "cell_type": "code",
   "execution_count": 17,
   "metadata": {},
   "outputs": [
    {
     "data": {
      "text/html": [
       "<div>\n",
       "<style scoped>\n",
       "    .dataframe tbody tr th:only-of-type {\n",
       "        vertical-align: middle;\n",
       "    }\n",
       "\n",
       "    .dataframe tbody tr th {\n",
       "        vertical-align: top;\n",
       "    }\n",
       "\n",
       "    .dataframe thead th {\n",
       "        text-align: right;\n",
       "    }\n",
       "</style>\n",
       "<table border=\"1\" class=\"dataframe\">\n",
       "  <thead>\n",
       "    <tr style=\"text-align: right;\">\n",
       "      <th></th>\n",
       "      <th>UserId</th>\n",
       "      <th>Date</th>\n",
       "      <th>State</th>\n",
       "      <th>Country</th>\n",
       "      <th>Device</th>\n",
       "      <th>OS</th>\n",
       "      <th>Status</th>\n",
       "      <th>time</th>\n",
       "    </tr>\n",
       "  </thead>\n",
       "  <tbody>\n",
       "    <tr>\n",
       "      <th>0</th>\n",
       "      <td>d168e2b924124feaad13eae44a68fce9</td>\n",
       "      <td>20170106</td>\n",
       "      <td>35</td>\n",
       "      <td>1</td>\n",
       "      <td>1</td>\n",
       "      <td>2</td>\n",
       "      <td>Complete</td>\n",
       "      <td>00:00:08</td>\n",
       "    </tr>\n",
       "    <tr>\n",
       "      <th>1</th>\n",
       "      <td>deed7490952a6746610ee2ee9fd219b7</td>\n",
       "      <td>20170106</td>\n",
       "      <td>7</td>\n",
       "      <td>40</td>\n",
       "      <td>1</td>\n",
       "      <td>1</td>\n",
       "      <td>Completed</td>\n",
       "      <td>00:00:08</td>\n",
       "    </tr>\n",
       "    <tr>\n",
       "      <th>2</th>\n",
       "      <td>13d9f55e297d7d9c219fbe9085e1006c</td>\n",
       "      <td>20170106</td>\n",
       "      <td>35</td>\n",
       "      <td>1</td>\n",
       "      <td>1</td>\n",
       "      <td>2</td>\n",
       "      <td>Complete</td>\n",
       "      <td>00:00:28</td>\n",
       "    </tr>\n",
       "    <tr>\n",
       "      <th>3</th>\n",
       "      <td>fccc2c0abf5afabf242a70df7b4c9e69</td>\n",
       "      <td>20170106</td>\n",
       "      <td>39</td>\n",
       "      <td>1</td>\n",
       "      <td>1</td>\n",
       "      <td>1</td>\n",
       "      <td>Completed</td>\n",
       "      <td>00:00:52</td>\n",
       "    </tr>\n",
       "    <tr>\n",
       "      <th>4</th>\n",
       "      <td>9ff982b29d78cefc8eb5a3ffb7fd2a5d</td>\n",
       "      <td>20170106</td>\n",
       "      <td>38</td>\n",
       "      <td>1</td>\n",
       "      <td>1</td>\n",
       "      <td>1</td>\n",
       "      <td>Not Completed</td>\n",
       "      <td>00:00:52</td>\n",
       "    </tr>\n",
       "  </tbody>\n",
       "</table>\n",
       "</div>"
      ],
      "text/plain": [
       "                             UserId      Date  State  Country  Device  OS  \\\n",
       "0  d168e2b924124feaad13eae44a68fce9  20170106     35        1       1   2   \n",
       "1  deed7490952a6746610ee2ee9fd219b7  20170106      7       40       1   1   \n",
       "2  13d9f55e297d7d9c219fbe9085e1006c  20170106     35        1       1   2   \n",
       "3  fccc2c0abf5afabf242a70df7b4c9e69  20170106     39        1       1   1   \n",
       "4  9ff982b29d78cefc8eb5a3ffb7fd2a5d  20170106     38        1       1   1   \n",
       "\n",
       "          Status      time  \n",
       "0       Complete  00:00:08  \n",
       "1      Completed  00:00:08  \n",
       "2       Complete  00:00:28  \n",
       "3      Completed  00:00:52  \n",
       "4  Not Completed  00:00:52  "
      ]
     },
     "execution_count": 17,
     "metadata": {},
     "output_type": "execute_result"
    }
   ],
   "source": [
    "data2['Start_Time_hr'] = data2['Minute_Of_Day']//60\n",
    "data2['Start_Time_min'] = data2['Minute_Of_Day']%60\n",
    "data2['Start_Time_sec'] = data2['Second']\n",
    "data2 = data2.drop(columns = 'Minute_Of_Day')\n",
    "data2 = data2.drop(columns = 'Second')\n",
    "data2['Start_Time_hr'] = data2['Start_Time_hr'].apply(lambda x: str(x).zfill(2))\n",
    "data2['Start_Time_min'] = data2['Start_Time_min'].apply(lambda x: str(x).zfill(2) )\n",
    "data2['Start_Time_sec'] =data2['Start_Time_sec'].apply(lambda x: str(x).zfill(2))\n",
    "data2['time'] = data2['Start_Time_hr'] + str(':') + data2['Start_Time_min'] + str(':') + data2['Start_Time_sec']\n",
    "data2 = data2.drop(columns = ['Start_Time_hr','Start_Time_min','Start_Time_sec'])\n",
    "data2.head(5)"
   ]
  },
  {
   "cell_type": "markdown",
   "metadata": {},
   "source": [
    "# Countplot of status of registration"
   ]
  },
  {
   "cell_type": "code",
   "execution_count": 18,
   "metadata": {},
   "outputs": [
    {
     "name": "stdout",
     "output_type": "stream",
     "text": [
      "Completed        228971\n",
      "Not Completed    100608\n",
      "Name: Status, dtype: int64\n"
     ]
    },
    {
     "data": {
      "text/plain": [
       "<matplotlib.axes._subplots.AxesSubplot at 0x190a5141080>"
      ]
     },
     "execution_count": 18,
     "metadata": {},
     "output_type": "execute_result"
    },
    {
     "data": {
      "image/png": "[encoded data removed]",
      "text/plain": [
       "<Figure size 432x288 with 1 Axes>"
      ]
     },
     "metadata": {
      "needs_background": "light"
     },
     "output_type": "display_data"
    }
   ],
   "source": [
    "data2.Status = data2.Status.replace({\"Complete\":\"Completed\"})\n",
    "print(data2.Status.value_counts())\n",
    "sns.countplot(data2['Status'])"
   ]
  },
  {
   "cell_type": "code",
   "execution_count": 19,
   "metadata": {},
   "outputs": [
    {
     "data": {
      "text/html": [
       "<div>\n",
       "<style scoped>\n",
       "    .dataframe tbody tr th:only-of-type {\n",
       "        vertical-align: middle;\n",
       "    }\n",
       "\n",
       "    .dataframe tbody tr th {\n",
       "        vertical-align: top;\n",
       "    }\n",
       "\n",
       "    .dataframe thead th {\n",
       "        text-align: right;\n",
       "    }\n",
       "</style>\n",
       "<table border=\"1\" class=\"dataframe\">\n",
       "  <thead>\n",
       "    <tr style=\"text-align: right;\">\n",
       "      <th></th>\n",
       "      <th>UserId</th>\n",
       "      <th>Date</th>\n",
       "      <th>State</th>\n",
       "      <th>Country</th>\n",
       "      <th>Device</th>\n",
       "      <th>OS</th>\n",
       "      <th>Status</th>\n",
       "      <th>time</th>\n",
       "    </tr>\n",
       "  </thead>\n",
       "  <tbody>\n",
       "    <tr>\n",
       "      <th>0</th>\n",
       "      <td>d168e2b924124feaad13eae44a68fce9</td>\n",
       "      <td>2017-01-06</td>\n",
       "      <td>35</td>\n",
       "      <td>1</td>\n",
       "      <td>1</td>\n",
       "      <td>2</td>\n",
       "      <td>Completed</td>\n",
       "      <td>00:00:08</td>\n",
       "    </tr>\n",
       "    <tr>\n",
       "      <th>1</th>\n",
       "      <td>deed7490952a6746610ee2ee9fd219b7</td>\n",
       "      <td>2017-01-06</td>\n",
       "      <td>7</td>\n",
       "      <td>40</td>\n",
       "      <td>1</td>\n",
       "      <td>1</td>\n",
       "      <td>Completed</td>\n",
       "      <td>00:00:08</td>\n",
       "    </tr>\n",
       "    <tr>\n",
       "      <th>2</th>\n",
       "      <td>13d9f55e297d7d9c219fbe9085e1006c</td>\n",
       "      <td>2017-01-06</td>\n",
       "      <td>35</td>\n",
       "      <td>1</td>\n",
       "      <td>1</td>\n",
       "      <td>2</td>\n",
       "      <td>Completed</td>\n",
       "      <td>00:00:28</td>\n",
       "    </tr>\n",
       "    <tr>\n",
       "      <th>3</th>\n",
       "      <td>fccc2c0abf5afabf242a70df7b4c9e69</td>\n",
       "      <td>2017-01-06</td>\n",
       "      <td>39</td>\n",
       "      <td>1</td>\n",
       "      <td>1</td>\n",
       "      <td>1</td>\n",
       "      <td>Completed</td>\n",
       "      <td>00:00:52</td>\n",
       "    </tr>\n",
       "    <tr>\n",
       "      <th>4</th>\n",
       "      <td>9ff982b29d78cefc8eb5a3ffb7fd2a5d</td>\n",
       "      <td>2017-01-06</td>\n",
       "      <td>38</td>\n",
       "      <td>1</td>\n",
       "      <td>1</td>\n",
       "      <td>1</td>\n",
       "      <td>Not Completed</td>\n",
       "      <td>00:00:52</td>\n",
       "    </tr>\n",
       "  </tbody>\n",
       "</table>\n",
       "</div>"
      ],
      "text/plain": [
       "                             UserId       Date  State  Country  Device  OS  \\\n",
       "0  d168e2b924124feaad13eae44a68fce9 2017-01-06     35        1       1   2   \n",
       "1  deed7490952a6746610ee2ee9fd219b7 2017-01-06      7       40       1   1   \n",
       "2  13d9f55e297d7d9c219fbe9085e1006c 2017-01-06     35        1       1   2   \n",
       "3  fccc2c0abf5afabf242a70df7b4c9e69 2017-01-06     39        1       1   1   \n",
       "4  9ff982b29d78cefc8eb5a3ffb7fd2a5d 2017-01-06     38        1       1   1   \n",
       "\n",
       "          Status      time  \n",
       "0      Completed  00:00:08  \n",
       "1      Completed  00:00:08  \n",
       "2      Completed  00:00:28  \n",
       "3      Completed  00:00:52  \n",
       "4  Not Completed  00:00:52  "
      ]
     },
     "execution_count": 19,
     "metadata": {},
     "output_type": "execute_result"
    }
   ],
   "source": [
    "data2['Date'] = data2['Date'].apply(lambda x:str(x)[0:4]+str('/') + str(x)[4:6] + str('/') + str(x)[6:8])\n",
    "data2['Date'] = pd.to_datetime(data2['Date'])\n",
    "data2.head(5)"
   ]
  },
  {
   "cell_type": "markdown",
   "metadata": {},
   "source": [
    "# Appuninstalled Dataset"
   ]
  },
  {
   "cell_type": "code",
   "execution_count": 18,
   "metadata": {},
   "outputs": [
    {
     "data": {
      "text/html": [
       "<div>\n",
       "<style scoped>\n",
       "    .dataframe tbody tr th:only-of-type {\n",
       "        vertical-align: middle;\n",
       "    }\n",
       "\n",
       "    .dataframe tbody tr th {\n",
       "        vertical-align: top;\n",
       "    }\n",
       "\n",
       "    .dataframe thead th {\n",
       "        text-align: right;\n",
       "    }\n",
       "</style>\n",
       "<table border=\"1\" class=\"dataframe\">\n",
       "  <thead>\n",
       "    <tr style=\"text-align: right;\">\n",
       "      <th></th>\n",
       "      <th>UserId</th>\n",
       "      <th>Date</th>\n",
       "      <th>Minute_Of_Day</th>\n",
       "      <th>Second</th>\n",
       "      <th>State</th>\n",
       "      <th>Country</th>\n",
       "      <th>Device</th>\n",
       "      <th>OS</th>\n",
       "    </tr>\n",
       "  </thead>\n",
       "  <tbody>\n",
       "    <tr>\n",
       "      <th>0</th>\n",
       "      <td>0d5f4cc176a4e1c648a9b9b5dbe21d69</td>\n",
       "      <td>20170106</td>\n",
       "      <td>0</td>\n",
       "      <td>0</td>\n",
       "      <td>47</td>\n",
       "      <td>1</td>\n",
       "      <td>1</td>\n",
       "      <td>1</td>\n",
       "    </tr>\n",
       "    <tr>\n",
       "      <th>1</th>\n",
       "      <td>807018f66aba113be576eb8afa4ea4b6</td>\n",
       "      <td>20170106</td>\n",
       "      <td>0</td>\n",
       "      <td>0</td>\n",
       "      <td>6</td>\n",
       "      <td>1</td>\n",
       "      <td>1</td>\n",
       "      <td>1</td>\n",
       "    </tr>\n",
       "    <tr>\n",
       "      <th>2</th>\n",
       "      <td>763e66e04918d8b8a7e69a778f5a742a</td>\n",
       "      <td>20170106</td>\n",
       "      <td>1</td>\n",
       "      <td>0</td>\n",
       "      <td>41</td>\n",
       "      <td>1</td>\n",
       "      <td>1</td>\n",
       "      <td>1</td>\n",
       "    </tr>\n",
       "    <tr>\n",
       "      <th>3</th>\n",
       "      <td>4ee1ed456fa04fc42168a9787b54b549</td>\n",
       "      <td>20170106</td>\n",
       "      <td>1</td>\n",
       "      <td>0</td>\n",
       "      <td>37</td>\n",
       "      <td>1</td>\n",
       "      <td>1</td>\n",
       "      <td>1</td>\n",
       "    </tr>\n",
       "    <tr>\n",
       "      <th>4</th>\n",
       "      <td>253e758a5557f9de890e814d901f6906</td>\n",
       "      <td>20170106</td>\n",
       "      <td>6</td>\n",
       "      <td>0</td>\n",
       "      <td>46</td>\n",
       "      <td>40</td>\n",
       "      <td>1</td>\n",
       "      <td>1</td>\n",
       "    </tr>\n",
       "  </tbody>\n",
       "</table>\n",
       "</div>"
      ],
      "text/plain": [
       "                             UserId      Date  Minute_Of_Day  Second  State  \\\n",
       "0  0d5f4cc176a4e1c648a9b9b5dbe21d69  20170106              0       0     47   \n",
       "1  807018f66aba113be576eb8afa4ea4b6  20170106              0       0      6   \n",
       "2  763e66e04918d8b8a7e69a778f5a742a  20170106              1       0     41   \n",
       "3  4ee1ed456fa04fc42168a9787b54b549  20170106              1       0     37   \n",
       "4  253e758a5557f9de890e814d901f6906  20170106              6       0     46   \n",
       "\n",
       "   Country  Device  OS  \n",
       "0        1       1   1  \n",
       "1        1       1   1  \n",
       "2        1       1   1  \n",
       "3        1       1   1  \n",
       "4       40       1   1  "
      ]
     },
     "execution_count": 18,
     "metadata": {},
     "output_type": "execute_result"
    }
   ],
   "source": [
    "data3 = pd.read_csv(r\"../data/Appuninstalled.csv\")\n",
    "data3.head(5)"
   ]
  },
  {
   "cell_type": "code",
   "execution_count": 15,
   "metadata": {},
   "outputs": [
    {
     "data": {
      "text/plain": [
       "(326684, 8)"
      ]
     },
     "execution_count": 15,
     "metadata": {},
     "output_type": "execute_result"
    }
   ],
   "source": [
    "data3.shape"
   ]
  },
  {
   "cell_type": "markdown",
   "metadata": {},
   "source": [
    "# Merging appuninstalled and registration Dataset"
   ]
  },
  {
   "cell_type": "code",
   "execution_count": 19,
   "metadata": {},
   "outputs": [],
   "source": [
    "def To_Date_Time(data):\n",
    "    df3 = data\n",
    "    df3['Start_Time_hr'] = df3['Minute_Of_Day']//60\n",
    "    df3['Start_Time_min'] = df3['Minute_Of_Day']%60\n",
    "    df3['Start_Time_sec'] = df3['Second']\n",
    "    df3 = df3.drop(columns = 'Minute_Of_Day')\n",
    "    df3 = df3.drop(columns = 'Second')\n",
    "    df3['Start_Time_hr'] = df3['Start_Time_hr'].apply(lambda x: str(x).zfill(2))\n",
    "    df3['Start_Time_min'] = df3['Start_Time_min'].apply(lambda x: str(x).zfill(2) )\n",
    "    df3['Start_Time_sec'] =df3['Start_Time_sec'].apply(lambda x: str(x).zfill(2))\n",
    "    df3['time'] = df3['Start_Time_hr'] + str(':') + df3['Start_Time_min'] + str(':') + df3['Start_Time_sec']\n",
    "    df3['date-time'] = df3['Date'].apply(str) + ' ' + df3['time'].apply(str)\n",
    "    df3['date-time'] = pd.to_datetime(df3['date-time'])\n",
    "    df3.drop(columns = ['Date','time'],inplace = True)\n",
    "\n",
    "    df3 = df3.drop(columns = ['Start_Time_hr','Start_Time_min','Start_Time_sec'])\n",
    "    return df3"
   ]
  },
  {
   "cell_type": "code",
   "execution_count": 20,
   "metadata": {},
   "outputs": [
    {
     "data": {
      "text/html": [
       "<div>\n",
       "<style scoped>\n",
       "    .dataframe tbody tr th:only-of-type {\n",
       "        vertical-align: middle;\n",
       "    }\n",
       "\n",
       "    .dataframe tbody tr th {\n",
       "        vertical-align: top;\n",
       "    }\n",
       "\n",
       "    .dataframe thead th {\n",
       "        text-align: right;\n",
       "    }\n",
       "</style>\n",
       "<table border=\"1\" class=\"dataframe\">\n",
       "  <thead>\n",
       "    <tr style=\"text-align: right;\">\n",
       "      <th></th>\n",
       "      <th>UserId</th>\n",
       "      <th>State</th>\n",
       "      <th>Country</th>\n",
       "      <th>Device</th>\n",
       "      <th>OS</th>\n",
       "      <th>date-time</th>\n",
       "    </tr>\n",
       "  </thead>\n",
       "  <tbody>\n",
       "    <tr>\n",
       "      <th>0</th>\n",
       "      <td>0d5f4cc176a4e1c648a9b9b5dbe21d69</td>\n",
       "      <td>47</td>\n",
       "      <td>1</td>\n",
       "      <td>1</td>\n",
       "      <td>1</td>\n",
       "      <td>2017-01-06 00:00:00</td>\n",
       "    </tr>\n",
       "    <tr>\n",
       "      <th>1</th>\n",
       "      <td>807018f66aba113be576eb8afa4ea4b6</td>\n",
       "      <td>6</td>\n",
       "      <td>1</td>\n",
       "      <td>1</td>\n",
       "      <td>1</td>\n",
       "      <td>2017-01-06 00:00:00</td>\n",
       "    </tr>\n",
       "    <tr>\n",
       "      <th>2</th>\n",
       "      <td>763e66e04918d8b8a7e69a778f5a742a</td>\n",
       "      <td>41</td>\n",
       "      <td>1</td>\n",
       "      <td>1</td>\n",
       "      <td>1</td>\n",
       "      <td>2017-01-06 00:01:00</td>\n",
       "    </tr>\n",
       "    <tr>\n",
       "      <th>3</th>\n",
       "      <td>4ee1ed456fa04fc42168a9787b54b549</td>\n",
       "      <td>37</td>\n",
       "      <td>1</td>\n",
       "      <td>1</td>\n",
       "      <td>1</td>\n",
       "      <td>2017-01-06 00:01:00</td>\n",
       "    </tr>\n",
       "    <tr>\n",
       "      <th>4</th>\n",
       "      <td>253e758a5557f9de890e814d901f6906</td>\n",
       "      <td>46</td>\n",
       "      <td>40</td>\n",
       "      <td>1</td>\n",
       "      <td>1</td>\n",
       "      <td>2017-01-06 00:06:00</td>\n",
       "    </tr>\n",
       "  </tbody>\n",
       "</table>\n",
       "</div>"
      ],
      "text/plain": [
       "                             UserId  State  Country  Device  OS  \\\n",
       "0  0d5f4cc176a4e1c648a9b9b5dbe21d69     47        1       1   1   \n",
       "1  807018f66aba113be576eb8afa4ea4b6      6        1       1   1   \n",
       "2  763e66e04918d8b8a7e69a778f5a742a     41        1       1   1   \n",
       "3  4ee1ed456fa04fc42168a9787b54b549     37        1       1   1   \n",
       "4  253e758a5557f9de890e814d901f6906     46       40       1   1   \n",
       "\n",
       "            date-time  \n",
       "0 2017-01-06 00:00:00  \n",
       "1 2017-01-06 00:00:00  \n",
       "2 2017-01-06 00:01:00  \n",
       "3 2017-01-06 00:01:00  \n",
       "4 2017-01-06 00:06:00  "
      ]
     },
     "execution_count": 20,
     "metadata": {},
     "output_type": "execute_result"
    }
   ],
   "source": [
    "# data23 = pd.merge(data2, data3, on='UserId')\n",
    "# data23['Date_y'] = data23['Date_y'].apply(lambda x:str(x)[0:4]+str('/') + str(x)[4:6] + str('/') + str(x)[6:8])\n",
    "# data23['Date_y'] = pd.to_datetime(data23['Date_y'])\n",
    "data3 = To_Date_Time(data3)\n",
    "data3.head(5)"
   ]
  },
  {
   "cell_type": "code",
   "execution_count": 21,
   "metadata": {},
   "outputs": [
    {
     "data": {
      "text/plain": [
       "(326684, 6)"
      ]
     },
     "execution_count": 21,
     "metadata": {},
     "output_type": "execute_result"
    }
   ],
   "source": [
    "data3.shape"
   ]
  },
  {
   "cell_type": "code",
   "execution_count": 22,
   "metadata": {},
   "outputs": [
    {
     "data": {
      "text/plain": [
       "5    74124\n",
       "1    66762\n",
       "4    62648\n",
       "2    49160\n",
       "3    43252\n",
       "6    30738\n",
       "Name: date-time, dtype: int64"
      ]
     },
     "execution_count": 22,
     "metadata": {},
     "output_type": "execute_result"
    }
   ],
   "source": [
    "data3['date-time'].dt.month.value_counts()"
   ]
  },
  {
   "cell_type": "code",
   "execution_count": 23,
   "metadata": {},
   "outputs": [
    {
     "data": {
      "text/plain": [
       "Text(0,0.5,'Count')"
      ]
     },
     "execution_count": 23,
     "metadata": {},
     "output_type": "execute_result"
    },
    {
     "data": {
      "image/png": "[encoded data removed]",
      "text/plain": [
       "<Figure size 432x288 with 1 Axes>"
      ]
     },
     "metadata": {
      "needs_background": "light"
     },
     "output_type": "display_data"
    }
   ],
   "source": [
    "plt.plot(['Jan','Feb','Mar','Apr','May','Jun'], [66762,49160,43252,62648,74124,30738], color='green', linestyle='dashed', linewidth = 3, \n",
    "         marker='o', markerfacecolor='blue', markersize=12) \n",
    "plt.title('Trend for AppUninstalled ')\n",
    "plt.xlabel('MONTH')\n",
    "plt.ylabel('Count')"
   ]
  },
  {
   "cell_type": "markdown",
   "metadata": {},
   "source": [
    "# UTM Dataset"
   ]
  },
  {
   "cell_type": "code",
   "execution_count": 32,
   "metadata": {},
   "outputs": [
    {
     "data": {
      "text/html": [
       "<div>\n",
       "<style scoped>\n",
       "    .dataframe tbody tr th:only-of-type {\n",
       "        vertical-align: middle;\n",
       "    }\n",
       "\n",
       "    .dataframe tbody tr th {\n",
       "        vertical-align: top;\n",
       "    }\n",
       "\n",
       "    .dataframe thead th {\n",
       "        text-align: right;\n",
       "    }\n",
       "</style>\n",
       "<table border=\"1\" class=\"dataframe\">\n",
       "  <thead>\n",
       "    <tr style=\"text-align: right;\">\n",
       "      <th></th>\n",
       "      <th>UserId</th>\n",
       "      <th>Date</th>\n",
       "      <th>Minute_Of_Day</th>\n",
       "      <th>Second</th>\n",
       "      <th>State</th>\n",
       "      <th>Country</th>\n",
       "      <th>Device</th>\n",
       "      <th>OS</th>\n",
       "    </tr>\n",
       "  </thead>\n",
       "  <tbody>\n",
       "    <tr>\n",
       "      <th>0</th>\n",
       "      <td>66d4abf4f3b733c27591b3f47c85eff7</td>\n",
       "      <td>20170106</td>\n",
       "      <td>0</td>\n",
       "      <td>52</td>\n",
       "      <td>37</td>\n",
       "      <td>1</td>\n",
       "      <td>1</td>\n",
       "      <td>1</td>\n",
       "    </tr>\n",
       "    <tr>\n",
       "      <th>1</th>\n",
       "      <td>1a40d7e5b34131b097fac80cf982241b</td>\n",
       "      <td>20170106</td>\n",
       "      <td>0</td>\n",
       "      <td>56</td>\n",
       "      <td>40</td>\n",
       "      <td>1</td>\n",
       "      <td>1</td>\n",
       "      <td>1</td>\n",
       "    </tr>\n",
       "    <tr>\n",
       "      <th>2</th>\n",
       "      <td>b7b3c1ce773a13b52d39429e305ea615</td>\n",
       "      <td>20170106</td>\n",
       "      <td>1</td>\n",
       "      <td>16</td>\n",
       "      <td>35</td>\n",
       "      <td>1</td>\n",
       "      <td>1</td>\n",
       "      <td>1</td>\n",
       "    </tr>\n",
       "    <tr>\n",
       "      <th>3</th>\n",
       "      <td>3f486a89433a02b96ab13b16c82e39fd</td>\n",
       "      <td>20170106</td>\n",
       "      <td>1</td>\n",
       "      <td>32</td>\n",
       "      <td>35</td>\n",
       "      <td>1</td>\n",
       "      <td>1</td>\n",
       "      <td>1</td>\n",
       "    </tr>\n",
       "    <tr>\n",
       "      <th>4</th>\n",
       "      <td>9ff982b29d78cefc8eb5a3ffb7fd2a5d</td>\n",
       "      <td>20170106</td>\n",
       "      <td>1</td>\n",
       "      <td>32</td>\n",
       "      <td>38</td>\n",
       "      <td>1</td>\n",
       "      <td>1</td>\n",
       "      <td>1</td>\n",
       "    </tr>\n",
       "  </tbody>\n",
       "</table>\n",
       "</div>"
      ],
      "text/plain": [
       "                             UserId      Date  Minute_Of_Day  Second  State  \\\n",
       "0  66d4abf4f3b733c27591b3f47c85eff7  20170106              0      52     37   \n",
       "1  1a40d7e5b34131b097fac80cf982241b  20170106              0      56     40   \n",
       "2  b7b3c1ce773a13b52d39429e305ea615  20170106              1      16     35   \n",
       "3  3f486a89433a02b96ab13b16c82e39fd  20170106              1      32     35   \n",
       "4  9ff982b29d78cefc8eb5a3ffb7fd2a5d  20170106              1      32     38   \n",
       "\n",
       "   Country  Device  OS  \n",
       "0        1       1   1  \n",
       "1        1       1   1  \n",
       "2        1       1   1  \n",
       "3        1       1   1  \n",
       "4        1       1   1  "
      ]
     },
     "execution_count": 32,
     "metadata": {},
     "output_type": "execute_result"
    }
   ],
   "source": [
    "data4 = pd.read_csv(r\"D:\\Capstone\\Data\\UTMVisited.csv\")\n",
    "data4.head(5)"
   ]
  },
  {
   "cell_type": "code",
   "execution_count": 33,
   "metadata": {},
   "outputs": [
    {
     "data": {
      "text/html": [
       "<div>\n",
       "<style scoped>\n",
       "    .dataframe tbody tr th:only-of-type {\n",
       "        vertical-align: middle;\n",
       "    }\n",
       "\n",
       "    .dataframe tbody tr th {\n",
       "        vertical-align: top;\n",
       "    }\n",
       "\n",
       "    .dataframe thead th {\n",
       "        text-align: right;\n",
       "    }\n",
       "</style>\n",
       "<table border=\"1\" class=\"dataframe\">\n",
       "  <thead>\n",
       "    <tr style=\"text-align: right;\">\n",
       "      <th></th>\n",
       "      <th>UserId</th>\n",
       "      <th>Date</th>\n",
       "      <th>Minute_Of_Day</th>\n",
       "      <th>Second</th>\n",
       "      <th>State</th>\n",
       "      <th>Country</th>\n",
       "      <th>Device</th>\n",
       "      <th>OS</th>\n",
       "      <th>Start_Time_hr</th>\n",
       "      <th>Start_Time_min</th>\n",
       "      <th>Start_Time_sec</th>\n",
       "    </tr>\n",
       "  </thead>\n",
       "  <tbody>\n",
       "    <tr>\n",
       "      <th>0</th>\n",
       "      <td>66d4abf4f3b733c27591b3f47c85eff7</td>\n",
       "      <td>2017-01-06</td>\n",
       "      <td>0</td>\n",
       "      <td>52</td>\n",
       "      <td>37</td>\n",
       "      <td>1</td>\n",
       "      <td>1</td>\n",
       "      <td>1</td>\n",
       "      <td>0</td>\n",
       "      <td>0</td>\n",
       "      <td>52</td>\n",
       "    </tr>\n",
       "    <tr>\n",
       "      <th>1</th>\n",
       "      <td>1a40d7e5b34131b097fac80cf982241b</td>\n",
       "      <td>2017-01-06</td>\n",
       "      <td>0</td>\n",
       "      <td>56</td>\n",
       "      <td>40</td>\n",
       "      <td>1</td>\n",
       "      <td>1</td>\n",
       "      <td>1</td>\n",
       "      <td>0</td>\n",
       "      <td>0</td>\n",
       "      <td>56</td>\n",
       "    </tr>\n",
       "    <tr>\n",
       "      <th>2</th>\n",
       "      <td>b7b3c1ce773a13b52d39429e305ea615</td>\n",
       "      <td>2017-01-06</td>\n",
       "      <td>1</td>\n",
       "      <td>16</td>\n",
       "      <td>35</td>\n",
       "      <td>1</td>\n",
       "      <td>1</td>\n",
       "      <td>1</td>\n",
       "      <td>0</td>\n",
       "      <td>1</td>\n",
       "      <td>16</td>\n",
       "    </tr>\n",
       "    <tr>\n",
       "      <th>3</th>\n",
       "      <td>3f486a89433a02b96ab13b16c82e39fd</td>\n",
       "      <td>2017-01-06</td>\n",
       "      <td>1</td>\n",
       "      <td>32</td>\n",
       "      <td>35</td>\n",
       "      <td>1</td>\n",
       "      <td>1</td>\n",
       "      <td>1</td>\n",
       "      <td>0</td>\n",
       "      <td>1</td>\n",
       "      <td>32</td>\n",
       "    </tr>\n",
       "    <tr>\n",
       "      <th>4</th>\n",
       "      <td>9ff982b29d78cefc8eb5a3ffb7fd2a5d</td>\n",
       "      <td>2017-01-06</td>\n",
       "      <td>1</td>\n",
       "      <td>32</td>\n",
       "      <td>38</td>\n",
       "      <td>1</td>\n",
       "      <td>1</td>\n",
       "      <td>1</td>\n",
       "      <td>0</td>\n",
       "      <td>1</td>\n",
       "      <td>32</td>\n",
       "    </tr>\n",
       "  </tbody>\n",
       "</table>\n",
       "</div>"
      ],
      "text/plain": [
       "                             UserId       Date  Minute_Of_Day  Second  State  \\\n",
       "0  66d4abf4f3b733c27591b3f47c85eff7 2017-01-06              0      52     37   \n",
       "1  1a40d7e5b34131b097fac80cf982241b 2017-01-06              0      56     40   \n",
       "2  b7b3c1ce773a13b52d39429e305ea615 2017-01-06              1      16     35   \n",
       "3  3f486a89433a02b96ab13b16c82e39fd 2017-01-06              1      32     35   \n",
       "4  9ff982b29d78cefc8eb5a3ffb7fd2a5d 2017-01-06              1      32     38   \n",
       "\n",
       "   Country  Device  OS  Start_Time_hr  Start_Time_min  Start_Time_sec  \n",
       "0        1       1   1              0               0              52  \n",
       "1        1       1   1              0               0              56  \n",
       "2        1       1   1              0               1              16  \n",
       "3        1       1   1              0               1              32  \n",
       "4        1       1   1              0               1              32  "
      ]
     },
     "execution_count": 33,
     "metadata": {},
     "output_type": "execute_result"
    }
   ],
   "source": [
    "data4['Date'] = data4['Date'].apply(lambda x:str(x)[0:4]+str('/') + str(x)[4:6] + str('/') + str(x)[6:8])\n",
    "data4['Date'] = pd.to_datetime(data4['Date'])\n",
    "data4['Start_Time_hr'] = data4['Minute_Of_Day']//60\n",
    "data4['Start_Time_min'] = data4['Minute_Of_Day']%60\n",
    "data4['Start_Time_sec'] = data4['Second']\n",
    "data4.head(5)\n"
   ]
  },
  {
   "cell_type": "code",
   "execution_count": 35,
   "metadata": {},
   "outputs": [
    {
     "data": {
      "text/html": [
       "<div>\n",
       "<style scoped>\n",
       "    .dataframe tbody tr th:only-of-type {\n",
       "        vertical-align: middle;\n",
       "    }\n",
       "\n",
       "    .dataframe tbody tr th {\n",
       "        vertical-align: top;\n",
       "    }\n",
       "\n",
       "    .dataframe thead th {\n",
       "        text-align: right;\n",
       "    }\n",
       "</style>\n",
       "<table border=\"1\" class=\"dataframe\">\n",
       "  <thead>\n",
       "    <tr style=\"text-align: right;\">\n",
       "      <th></th>\n",
       "      <th>UserId</th>\n",
       "      <th>Date</th>\n",
       "      <th>Minute_Of_Day</th>\n",
       "      <th>Second</th>\n",
       "      <th>State</th>\n",
       "      <th>Country</th>\n",
       "      <th>Device</th>\n",
       "      <th>OS</th>\n",
       "      <th>Start_Time_hr</th>\n",
       "      <th>Start_Time_min</th>\n",
       "      <th>Start_Time_sec</th>\n",
       "      <th>time</th>\n",
       "    </tr>\n",
       "  </thead>\n",
       "  <tbody>\n",
       "    <tr>\n",
       "      <th>0</th>\n",
       "      <td>66d4abf4f3b733c27591b3f47c85eff7</td>\n",
       "      <td>2017-01-06</td>\n",
       "      <td>0</td>\n",
       "      <td>52</td>\n",
       "      <td>37</td>\n",
       "      <td>1</td>\n",
       "      <td>1</td>\n",
       "      <td>1</td>\n",
       "      <td>00</td>\n",
       "      <td>00</td>\n",
       "      <td>52</td>\n",
       "      <td>00:00:52</td>\n",
       "    </tr>\n",
       "    <tr>\n",
       "      <th>1</th>\n",
       "      <td>1a40d7e5b34131b097fac80cf982241b</td>\n",
       "      <td>2017-01-06</td>\n",
       "      <td>0</td>\n",
       "      <td>56</td>\n",
       "      <td>40</td>\n",
       "      <td>1</td>\n",
       "      <td>1</td>\n",
       "      <td>1</td>\n",
       "      <td>00</td>\n",
       "      <td>00</td>\n",
       "      <td>56</td>\n",
       "      <td>00:00:56</td>\n",
       "    </tr>\n",
       "    <tr>\n",
       "      <th>2</th>\n",
       "      <td>b7b3c1ce773a13b52d39429e305ea615</td>\n",
       "      <td>2017-01-06</td>\n",
       "      <td>1</td>\n",
       "      <td>16</td>\n",
       "      <td>35</td>\n",
       "      <td>1</td>\n",
       "      <td>1</td>\n",
       "      <td>1</td>\n",
       "      <td>00</td>\n",
       "      <td>01</td>\n",
       "      <td>16</td>\n",
       "      <td>00:01:16</td>\n",
       "    </tr>\n",
       "    <tr>\n",
       "      <th>3</th>\n",
       "      <td>3f486a89433a02b96ab13b16c82e39fd</td>\n",
       "      <td>2017-01-06</td>\n",
       "      <td>1</td>\n",
       "      <td>32</td>\n",
       "      <td>35</td>\n",
       "      <td>1</td>\n",
       "      <td>1</td>\n",
       "      <td>1</td>\n",
       "      <td>00</td>\n",
       "      <td>01</td>\n",
       "      <td>32</td>\n",
       "      <td>00:01:32</td>\n",
       "    </tr>\n",
       "    <tr>\n",
       "      <th>4</th>\n",
       "      <td>9ff982b29d78cefc8eb5a3ffb7fd2a5d</td>\n",
       "      <td>2017-01-06</td>\n",
       "      <td>1</td>\n",
       "      <td>32</td>\n",
       "      <td>38</td>\n",
       "      <td>1</td>\n",
       "      <td>1</td>\n",
       "      <td>1</td>\n",
       "      <td>00</td>\n",
       "      <td>01</td>\n",
       "      <td>32</td>\n",
       "      <td>00:01:32</td>\n",
       "    </tr>\n",
       "  </tbody>\n",
       "</table>\n",
       "</div>"
      ],
      "text/plain": [
       "                             UserId       Date  Minute_Of_Day  Second  State  \\\n",
       "0  66d4abf4f3b733c27591b3f47c85eff7 2017-01-06              0      52     37   \n",
       "1  1a40d7e5b34131b097fac80cf982241b 2017-01-06              0      56     40   \n",
       "2  b7b3c1ce773a13b52d39429e305ea615 2017-01-06              1      16     35   \n",
       "3  3f486a89433a02b96ab13b16c82e39fd 2017-01-06              1      32     35   \n",
       "4  9ff982b29d78cefc8eb5a3ffb7fd2a5d 2017-01-06              1      32     38   \n",
       "\n",
       "   Country  Device  OS Start_Time_hr Start_Time_min Start_Time_sec      time  \n",
       "0        1       1   1            00             00             52  00:00:52  \n",
       "1        1       1   1            00             00             56  00:00:56  \n",
       "2        1       1   1            00             01             16  00:01:16  \n",
       "3        1       1   1            00             01             32  00:01:32  \n",
       "4        1       1   1            00             01             32  00:01:32  "
      ]
     },
     "execution_count": 35,
     "metadata": {},
     "output_type": "execute_result"
    }
   ],
   "source": [
    "data4['Start_Time_hr'] = data4['Start_Time_hr'].apply(lambda x: str(x).zfill(2))\n",
    "data4['Start_Time_min'] = data4['Start_Time_min'].apply(lambda x: str(x).zfill(2) )\n",
    "data4['Start_Time_sec'] =data4['Start_Time_sec'].apply(lambda x: str(x).zfill(2))\n",
    "data4['time'] = data4['Start_Time_hr'] + str(':') + data4['Start_Time_min'] + str(':') + data4['Start_Time_sec']b\n",
    "data4.head(5)"
   ]
  },
  {
   "cell_type": "code",
   "execution_count": 37,
   "metadata": {},
   "outputs": [
    {
     "data": {
      "text/html": [
       "<div>\n",
       "<style scoped>\n",
       "    .dataframe tbody tr th:only-of-type {\n",
       "        vertical-align: middle;\n",
       "    }\n",
       "\n",
       "    .dataframe tbody tr th {\n",
       "        vertical-align: top;\n",
       "    }\n",
       "\n",
       "    .dataframe thead th {\n",
       "        text-align: right;\n",
       "    }\n",
       "</style>\n",
       "<table border=\"1\" class=\"dataframe\">\n",
       "  <thead>\n",
       "    <tr style=\"text-align: right;\">\n",
       "      <th></th>\n",
       "      <th>UserId</th>\n",
       "      <th>Date</th>\n",
       "      <th>Minute_Of_Day</th>\n",
       "      <th>Second</th>\n",
       "      <th>State</th>\n",
       "      <th>Country</th>\n",
       "      <th>Device</th>\n",
       "      <th>OS</th>\n",
       "      <th>time</th>\n",
       "    </tr>\n",
       "  </thead>\n",
       "  <tbody>\n",
       "    <tr>\n",
       "      <th>0</th>\n",
       "      <td>66d4abf4f3b733c27591b3f47c85eff7</td>\n",
       "      <td>2017-01-06</td>\n",
       "      <td>0</td>\n",
       "      <td>52</td>\n",
       "      <td>37</td>\n",
       "      <td>1</td>\n",
       "      <td>1</td>\n",
       "      <td>1</td>\n",
       "      <td>00:00:52</td>\n",
       "    </tr>\n",
       "    <tr>\n",
       "      <th>1</th>\n",
       "      <td>1a40d7e5b34131b097fac80cf982241b</td>\n",
       "      <td>2017-01-06</td>\n",
       "      <td>0</td>\n",
       "      <td>56</td>\n",
       "      <td>40</td>\n",
       "      <td>1</td>\n",
       "      <td>1</td>\n",
       "      <td>1</td>\n",
       "      <td>00:00:56</td>\n",
       "    </tr>\n",
       "    <tr>\n",
       "      <th>2</th>\n",
       "      <td>b7b3c1ce773a13b52d39429e305ea615</td>\n",
       "      <td>2017-01-06</td>\n",
       "      <td>1</td>\n",
       "      <td>16</td>\n",
       "      <td>35</td>\n",
       "      <td>1</td>\n",
       "      <td>1</td>\n",
       "      <td>1</td>\n",
       "      <td>00:01:16</td>\n",
       "    </tr>\n",
       "    <tr>\n",
       "      <th>3</th>\n",
       "      <td>3f486a89433a02b96ab13b16c82e39fd</td>\n",
       "      <td>2017-01-06</td>\n",
       "      <td>1</td>\n",
       "      <td>32</td>\n",
       "      <td>35</td>\n",
       "      <td>1</td>\n",
       "      <td>1</td>\n",
       "      <td>1</td>\n",
       "      <td>00:01:32</td>\n",
       "    </tr>\n",
       "    <tr>\n",
       "      <th>4</th>\n",
       "      <td>9ff982b29d78cefc8eb5a3ffb7fd2a5d</td>\n",
       "      <td>2017-01-06</td>\n",
       "      <td>1</td>\n",
       "      <td>32</td>\n",
       "      <td>38</td>\n",
       "      <td>1</td>\n",
       "      <td>1</td>\n",
       "      <td>1</td>\n",
       "      <td>00:01:32</td>\n",
       "    </tr>\n",
       "  </tbody>\n",
       "</table>\n",
       "</div>"
      ],
      "text/plain": [
       "                             UserId       Date  Minute_Of_Day  Second  State  \\\n",
       "0  66d4abf4f3b733c27591b3f47c85eff7 2017-01-06              0      52     37   \n",
       "1  1a40d7e5b34131b097fac80cf982241b 2017-01-06              0      56     40   \n",
       "2  b7b3c1ce773a13b52d39429e305ea615 2017-01-06              1      16     35   \n",
       "3  3f486a89433a02b96ab13b16c82e39fd 2017-01-06              1      32     35   \n",
       "4  9ff982b29d78cefc8eb5a3ffb7fd2a5d 2017-01-06              1      32     38   \n",
       "\n",
       "   Country  Device  OS      time  \n",
       "0        1       1   1  00:00:52  \n",
       "1        1       1   1  00:00:56  \n",
       "2        1       1   1  00:01:16  \n",
       "3        1       1   1  00:01:32  \n",
       "4        1       1   1  00:01:32  "
      ]
     },
     "execution_count": 37,
     "metadata": {},
     "output_type": "execute_result"
    }
   ],
   "source": [
    "data4.drop(columns = ['Start_Time_hr','Start_Time_min','Start_Time_sec'],inplace = True)\n",
    "data4.head(5)"
   ]
  },
  {
   "cell_type": "code",
   "execution_count": 38,
   "metadata": {},
   "outputs": [
    {
     "data": {
      "text/plain": [
       "5    116383\n",
       "4    100321\n",
       "1     98052\n",
       "3     67629\n",
       "2     60636\n",
       "6     52829\n",
       "Name: Date, dtype: int64"
      ]
     },
     "execution_count": 38,
     "metadata": {},
     "output_type": "execute_result"
    }
   ],
   "source": [
    "data4['Date'].dt.month.value_counts()"
   ]
  },
  {
   "cell_type": "code",
   "execution_count": 39,
   "metadata": {},
   "outputs": [
    {
     "data": {
      "text/plain": [
       "Text(0, 0.5, 'Count')"
      ]
     },
     "execution_count": 39,
     "metadata": {},
     "output_type": "execute_result"
    },
    {
     "data": {
      "image/png": "[encoded data removed]",
      "text/plain": [
       "<Figure size 432x288 with 1 Axes>"
      ]
     },
     "metadata": {
      "needs_background": "light"
     },
     "output_type": "display_data"
    }
   ],
   "source": [
    "plt.plot(['Jan','Feb','Mar','Apr','May','Jun'], [98052,60636,67629,100321,116383,52829], color='green', linestyle='dashed', linewidth = 3, \n",
    "         marker='o', markerfacecolor='blue', markersize=12) \n",
    "plt.title('Trend for UTM ')\n",
    "plt.xlabel('MONTH')\n",
    "plt.ylabel('Count')"
   ]
  }
 ],
 "metadata": {
  "kernelspec": {
   "display_name": "Python 3",
   "language": "python",
   "name": "python3"
  },
  "language_info": {
   "codemirror_mode": {
    "name": "ipython",
    "version": 3
   },
   "file_extension": ".py",
   "mimetype": "text/x-python",
   "name": "python",
   "nbconvert_exporter": "python",
   "pygments_lexer": "ipython3",
   "version": "3.7.1"
  }
 },
 "nbformat": 4,
 "nbformat_minor": 2
}
